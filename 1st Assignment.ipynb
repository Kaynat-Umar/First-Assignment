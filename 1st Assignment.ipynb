{
 "cells": [
  {
   "cell_type": "code",
   "execution_count": 24,
   "id": "bc1ca9e8",
   "metadata": {},
   "outputs": [
    {
     "name": "stdout",
     "output_type": "stream",
     "text": [
      "The area of the rectangle is: 17.875 square units\n"
     ]
    }
   ],
   "source": [
    "#Task 2: Expressions and Operators\n",
    "#a) A rectangle has a width of 5.5 units and a height of 3.25 units. Store width and height in variables.\n",
    "#Create a new variable called area and write an expression to calculate the area. Print the area in the\n",
    "#output.\n",
    "\n",
    "\n",
    "# Storing the width and height in variables\n",
    "width = 5.5\n",
    "height = 3.25\n",
    "\n",
    "# Calculating the area\n",
    "area = width * height\n",
    "\n",
    "# Print the area\n",
    "print(\"The area of the rectangle is:\", area, \"square units\")"
   ]
  },
  {
   "cell_type": "code",
   "execution_count": 23,
   "id": "0effa214",
   "metadata": {},
   "outputs": [
    {
     "name": "stdout",
     "output_type": "stream",
     "text": [
      "Enter Your Age: 36\n",
      "Enter Your Name: Kaynat\n",
      "Enter True if your a student: True\n",
      "Age: 36\n",
      "Name: Kaynat\n",
      "Is Student: True\n",
      "After adding 25 to age, the new age is:  61\n",
      "After concatenating 'Smith' to the name, the full name is:  Kaynat Smith\n",
      "After negating the 'is_student' variable, it is now:  False\n"
     ]
    }
   ],
   "source": [
    "#Task 1: Variables and Data Types\n",
    "#a) Create three variables: one for storing your age (integer), one for your name (string), and one to\n",
    "#check if you are a student (Boolean). Print the variables.\n",
    "#b) Perform the following operations and print the results:\n",
    "#- Add 25 to your age variable.\n",
    "#- Concatenate your name with the string &quot;Smith.&quot;\n",
    "#- Negate the Boolean variable (if True, make it False, and vice versa).\n",
    "\n",
    "\n",
    "# a) Creating variables\n",
    "age = int(input(\"Enter Your Age: \"))\n",
    "name = input(\"Enter Your Name: \")  \n",
    "is_student = (input(\"Enter True if your a student: \"))  \n",
    "\n",
    "# Print the variables\n",
    "print(\"Age:\", age)\n",
    "print(\"Name:\", name)\n",
    "print(\"Is Student:\", is_student)\n",
    "\n",
    "# b) Performing operations and print the results\n",
    "age += 25\n",
    "full_name = name + \" Smith\"\n",
    "is_student = not is_student\n",
    "\n",
    "# Print the results of the operations\n",
    "print(\"After adding 25 to age, the new age is: \", age)\n",
    "print(\"After concatenating 'Smith' to the name, the full name is: \", full_name)\n",
    "print(\"After negating the 'is_student' variable, it is now: \", is_student)"
   ]
  },
  {
   "cell_type": "code",
   "execution_count": 25,
   "id": "a2dcc176",
   "metadata": {},
   "outputs": [
    {
     "name": "stdout",
     "output_type": "stream",
     "text": [
      "The temperature in Fahrenheit is: 77.0 °F\n"
     ]
    }
   ],
   "source": [
    "#b) Create a temperature variable in Celsius. Convert it to Fahrenheit using the formula: F = (C * 9/5)\n",
    "#+ 32. Store this temperature in a variable called Fahrenheit and print this variable.\n",
    "\n",
    "\n",
    "# Creating a temperature variable in Celsius\n",
    "celsius_temperature = 25 \n",
    "\n",
    "# Converting it to Fahrenheit\n",
    "fahrenheit_temperature = (celsius_temperature * 9/5) + 32\n",
    "\n",
    "# Printing the temperature in Fahrenheit\n",
    "print(\"The temperature in Fahrenheit is:\", fahrenheit_temperature, \"°F\")"
   ]
  },
  {
   "cell_type": "code",
   "execution_count": 26,
   "id": "f98834f7",
   "metadata": {},
   "outputs": [
    {
     "name": "stdout",
     "output_type": "stream",
     "text": [
      "The area of the circle is: 78.53975\n"
     ]
    }
   ],
   "source": [
    "# a) Create a variable called radius and give it a value of 5. Calculate the area of a circle with this radius\n",
    "#and store it in a variable called area. Print area at the end of your code. (Use the formula: area = π *\n",
    "#radius^2, where π (pi) is approximately 3.14159).\n",
    "\n",
    "# Creating a variable for the radius\n",
    "radius = 5\n",
    "\n",
    "# Calculating the area of the circle\n",
    "pi = 3.14159 \n",
    "area = pi * radius ** 2\n",
    "\n",
    "# Printing the area\n",
    "print(\"The area of the circle is:\", area)"
   ]
  },
  {
   "cell_type": "code",
   "execution_count": 27,
   "id": "4b07a19a",
   "metadata": {},
   "outputs": [
    {
     "name": "stdout",
     "output_type": "stream",
     "text": [
      "['apple', 'banana', 'orange', 'grape', 'kiwi']\n"
     ]
    }
   ],
   "source": [
    "#Task 3: Introduction to Data Structures\n",
    "#a) Create a list called fruits containing the following fruits: \"apple\", \"banana\", orange, grape,\n",
    "#and kiwi Print the list.\n",
    "\n",
    "\n",
    "#Creating a list called fruits\n",
    "fruits = [\"apple\", \"banana\", \"orange\", \"grape\", \"kiwi\"]\n",
    "#Printing the list\n",
    "print(fruits)"
   ]
  },
  {
   "cell_type": "code",
   "execution_count": 28,
   "id": "13595ebb",
   "metadata": {},
   "outputs": [
    {
     "name": "stdout",
     "output_type": "stream",
     "text": [
      "('Jan', 'Feb', 'Mar')\n"
     ]
    }
   ],
   "source": [
    "#b) Create a tuple named \"months\" with the names of the first three months of the year. Print the tuple.\n",
    "\n",
    "\n",
    "months= (\"Jan\", \"Feb\", \"Mar\")\n",
    "print(months)"
   ]
  },
  {
   "cell_type": "code",
   "execution_count": 29,
   "id": "a3c83a24",
   "metadata": {},
   "outputs": [
    {
     "name": "stdout",
     "output_type": "stream",
     "text": [
      "Sum of the numbers: 426\n",
      "Average of the numbers: 53.25\n"
     ]
    }
   ],
   "source": [
    "#Task 4: List Manipulation\n",
    "#a) Given the list of numbers below, write a Python program to calculate the sum and average of these numbers. Print both results.\n",
    "#numbers = [12, 34, 45, 67, 89, 100, 23, 56]\n",
    "\n",
    "numbers = [12, 34, 45, 67, 89, 100, 23, 56]\n",
    "\n",
    "# Calculate the sum\n",
    "total = sum(numbers)\n",
    "\n",
    "# Calculate the average\n",
    "average = total / len(numbers)\n",
    "\n",
    "# Print the sum and average\n",
    "print(\"Sum of the numbers:\", total)\n",
    "print(\"Average of the numbers:\", average)"
   ]
  },
  {
   "cell_type": "code",
   "execution_count": 32,
   "id": "a7ffaf8d",
   "metadata": {},
   "outputs": [
    {
     "name": "stdout",
     "output_type": "stream",
     "text": [
      "['banana', 'orange', 'grape']\n"
     ]
    }
   ],
   "source": [
    "# b) Remove the first and last elements from the fruits list created earlier. Print the updated list.\n",
    "\n",
    "fruits = [\"apple\", \"banana\", \"orange\", \"grape\", \"kiwi\"]\n",
    "print(fruits[1:-1])\n"
   ]
  },
  {
   "cell_type": "code",
   "execution_count": 33,
   "id": "9382f81b",
   "metadata": {},
   "outputs": [
    {
     "name": "stdout",
     "output_type": "stream",
     "text": [
      "Dictionary of capitals: {'USA': 'Washington D.C.', 'France': 'Paris', 'Japan': 'Tokyo'}\n"
     ]
    }
   ],
   "source": [
    "#Task 5: Dictionary Operations\n",
    "#a) Create a dictionary named capital with three key-value pairs: \"USA - Washington D.C.\"\",\n",
    "#\"France -Paris\", and \"Japan -Tokyo\" Print the dictionary.\n",
    "\n",
    "capital = {\n",
    "    \"USA\": \"Washington D.C.\",\n",
    "    \"France\": \"Paris\",\n",
    "    \"Japan\": \"Tokyo\"\n",
    "}\n",
    "\n",
    "\n",
    "print(\"Dictionary of capitals:\", capital)"
   ]
  },
  {
   "cell_type": "code",
   "execution_count": 34,
   "id": "59d06698",
   "metadata": {},
   "outputs": [
    {
     "name": "stdout",
     "output_type": "stream",
     "text": [
      "Updated dictionary of capitals: {'USA': 'Washington D.C.', 'France': 'Paris', 'Japan': 'Tokyo', 'Germany': 'Berlin'}\n"
     ]
    }
   ],
   "source": [
    "#b) Add a new country and its capital to the capitals dictionary. The country is Germany, and the\n",
    "# capital is Berlin Print the updated dictionary.\n",
    "\n",
    "\n",
    "# The existing dictionary\n",
    "capital = {\n",
    "    \"USA\": \"Washington D.C.\",\n",
    "    \"France\": \"Paris\",\n",
    "    \"Japan\": \"Tokyo\"\n",
    "}\n",
    "\n",
    "# Add a new country and its capital\n",
    "capital[\"Germany\"] = \"Berlin\"\n",
    "\n",
    "# Print the updated dictionary\n",
    "print(\"Updated dictionary of capitals:\", capital)"
   ]
  },
  {
   "cell_type": "code",
   "execution_count": 35,
   "id": "700f4a5f",
   "metadata": {},
   "outputs": [
    {
     "name": "stdout",
     "output_type": "stream",
     "text": [
      "France is in the dictionary.\n"
     ]
    }
   ],
   "source": [
    "# C) Check if  France exists in the capitals  dictionary. If it does, print France is in the dictionary,otherwise, print France is not in the dictionary.\n",
    "\n",
    "# The dictionary of capitals\n",
    "capital = {\n",
    "    \"USA\": \"Washington D.C.\",\n",
    "    \"France\": \"Paris\",\n",
    "    \"Japan\": \"Tokyo\",\n",
    "}\n",
    "\n",
    "# Check if France exists in the dictionary\n",
    "if \"France\" in capital:\n",
    "    print(\"France is in the dictionary.\")\n",
    "else:\n",
    "    print(\"France is not in the dictionary.\")"
   ]
  },
  {
   "cell_type": "code",
   "execution_count": 36,
   "id": "2d11b158",
   "metadata": {},
   "outputs": [
    {
     "name": "stdout",
     "output_type": "stream",
     "text": [
      "Enter a number: 3\n",
      "3 is an odd number.\n"
     ]
    }
   ],
   "source": [
    "#Task 6: Comparison Operators, Logical Operators and If/Else:\n",
    "#a) Create a variable called number that takes user input (we studied the input() function). Next,\n",
    "# write a block of code that checks if the number is even or odd\n",
    "\n",
    "# Get user input for a number\n",
    "number = int(input(\"Enter a number: \"))\n",
    "\n",
    "# Check if the number is even or odd\n",
    "if number % 2 == 0:\n",
    "    print(f\"{number} is an even number.\")\n",
    "else:\n",
    "    print(f\"{number} is an odd number.\")"
   ]
  },
  {
   "cell_type": "code",
   "execution_count": 37,
   "id": "39429517",
   "metadata": {},
   "outputs": [
    {
     "name": "stdout",
     "output_type": "stream",
     "text": [
      "Eligible for admission.\n"
     ]
    }
   ],
   "source": [
    "#b) Create two variables called age and GPA. Give them values of your choice. Next, write a block of\n",
    "#code to check if a student with this age and GPA is eligible for admission. The following are the conditions:\n",
    "#- The student must be at least 18 years old.\n",
    "#- The student GPA must be 3.0 or higher on a scale of 4.0.\n",
    "# Your output should print “Eligible for admission” or “Not eligible for admission”.\n",
    "\n",
    "# Define the variables\n",
    "age = 19  \n",
    "GPA = 3.5  \n",
    "\n",
    "# Check if the student is eligible for admission\n",
    "if age >= 18 and GPA >= 3.0:\n",
    "    print(\"Eligible for admission.\")\n",
    "else:\n",
    "    print(\"Not eligible for admission.\")"
   ]
  },
  {
   "cell_type": "code",
   "execution_count": 38,
   "id": "748b4931",
   "metadata": {},
   "outputs": [
    {
     "name": "stdout",
     "output_type": "stream",
     "text": [
      "Set of fruits: {'orange', 'grape', 'apple', 'banana', 'kiwi'}\n"
     ]
    }
   ],
   "source": [
    "# Task 7: Advanced Data Types\n",
    "# a) Create a set named fruits containing the following fruits: apple, banana, orange,\n",
    "# grape, kiwi. Print the set.\n",
    "\n",
    "# Create a set of fruits\n",
    "fruits = {\"apple\", \"banana\", \"orange\", \"grape\", \"kiwi\"}\n",
    "\n",
    "# Print the set\n",
    "print(\"Set of fruits:\", fruits)"
   ]
  },
  {
   "cell_type": "code",
   "execution_count": 39,
   "id": "309edd02",
   "metadata": {},
   "outputs": [
    {
     "name": "stdout",
     "output_type": "stream",
     "text": [
      "Union of set1 and set2: {1, 2, 3, 4, 5, 6, 7}\n",
      "Intersection of set1 and set2: {3, 4, 5}\n",
      "Difference between set1 and set2: {1, 2}\n",
      "Is set1 a subset of set2? False\n"
     ]
    }
   ],
   "source": [
    "# b) Given two sets:\n",
    "# set1 = {1, 2, 3, 4, 5}\n",
    "# set2 = {3, 4, 5, 6, 7}\n",
    "\n",
    "# Write Python code to perform the following operations and print the results:\n",
    "# - Union of set1 and set2.\n",
    "# - Intersection of set1 and set2.\n",
    "# - Difference between set1 and set2.\n",
    "# - Check if set1 is a subset of set2.\n",
    "\n",
    "# Define the two sets\n",
    "set1 = {1, 2, 3, 4, 5}\n",
    "set2 = {3, 4, 5, 6, 7}\n",
    "\n",
    "# Union of set1 and set2\n",
    "union_result = set1.union(set2)\n",
    "print(\"Union of set1 and set2:\", union_result)\n",
    "\n",
    "# Intersection of set1 and set2\n",
    "intersection_result = set1.intersection(set2)\n",
    "print(\"Intersection of set1 and set2:\", intersection_result)\n",
    "\n",
    "# Difference between set1 and set2\n",
    "difference_result = set1.difference(set2)\n",
    "print(\"Difference between set1 and set2:\", difference_result)\n",
    "\n",
    "# Check if set1 is a subset of set2\n",
    "is_subset = set1.issubset(set2)\n",
    "print(\"Is set1 a subset of set2?\", is_subset)"
   ]
  },
  {
   "cell_type": "code",
   "execution_count": 40,
   "id": "75657ca5",
   "metadata": {},
   "outputs": [
    {
     "name": "stdout",
     "output_type": "stream",
     "text": [
      "Length of the string: 38\n",
      "Uppercase string: PYTHON PROGRAMMING IS FUN AND POWERFUL\n",
      "Replaced string: Python programming is exciting and powerful\n",
      "Does the string contain 'Python'? True\n",
      "List of words: ['Python', 'programming', 'is', 'fun', 'and', 'powerful']\n"
     ]
    }
   ],
   "source": [
    "# Task 8: Strings Manipulation\n",
    "# a) Create a string variable containing the following sentence:\n",
    "# \"Python programming is fun and powerful\"\n",
    "# Write Python code to do the following and print the results:\n",
    "# - Find the length of the string.\n",
    "# - Convert the string to uppercase.\n",
    "# - Replace fun; with exciting.\n",
    "# - Check if the string contains the word Python\n",
    "# - Split the string into a list of words.\n",
    "\n",
    "# Create the string variable\n",
    "sentence = \"Python programming is fun and powerful\"\n",
    "\n",
    "# Find the length of the string\n",
    "length = len(sentence)\n",
    "print(\"Length of the string:\", length)\n",
    "\n",
    "# Convert the string to uppercase\n",
    "uppercase_sentence = sentence.upper()\n",
    "print(\"Uppercase string:\", uppercase_sentence)\n",
    "\n",
    "# Replace \"fun\" with \"exciting\"\n",
    "replaced_sentence = sentence.replace(\"fun\", \"exciting\")\n",
    "print(\"Replaced string:\", replaced_sentence)\n",
    "\n",
    "# Check if the string contains the word \"Python\"\n",
    "contains_python = \"Python\" in sentence\n",
    "print(\"Does the string contain 'Python'?\", contains_python)\n",
    "\n",
    "# Split the string into a list of words\n",
    "words = sentence.split()\n",
    "print(\"List of words:\", words)"
   ]
  },
  {
   "cell_type": "code",
   "execution_count": null,
   "id": "806d81ab",
   "metadata": {},
   "outputs": [],
   "source": []
  }
 ],
 "metadata": {
  "kernelspec": {
   "display_name": "Python 3 (ipykernel)",
   "language": "python",
   "name": "python3"
  },
  "language_info": {
   "codemirror_mode": {
    "name": "ipython",
    "version": 3
   },
   "file_extension": ".py",
   "mimetype": "text/x-python",
   "name": "python",
   "nbconvert_exporter": "python",
   "pygments_lexer": "ipython3",
   "version": "3.11.5"
  }
 },
 "nbformat": 4,
 "nbformat_minor": 5
}
